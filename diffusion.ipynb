{
 "cells": [
  {
   "cell_type": "markdown",
   "id": "e0d1ff11",
   "metadata": {},
   "source": [
    "Reference: https://keras.io/examples/generative/ddim/"
   ]
  },
  {
   "cell_type": "code",
   "execution_count": 1,
   "id": "8a03880a",
   "metadata": {},
   "outputs": [],
   "source": [
    "from tensorflow.keras.preprocessing.image import ImageDataGenerator\n",
    "import numpy as np\n",
    "from keras import layers\n",
    "import math\n",
    "import matplotlib.pyplot as plt\n",
    "import tensorflow as tf\n",
    "from tensorflow import keras\n",
    "import tensorflow_datasets as tfds\n",
    "from keras.optimizers import Adam\n",
    "from keras.losses import mean_absolute_error"
   ]
  },
  {
   "cell_type": "code",
   "execution_count": 2,
   "id": "b0ac5927",
   "metadata": {},
   "outputs": [],
   "source": [
    "# sampling\n",
    "min_signal_rate = 0.02\n",
    "max_signal_rate = 0.95\n",
    "\n",
    "# architecture\n",
    "embedding_dims = 32\n",
    "embedding_max_frequency = 1000.0\n",
    "widths = [32, 64, 96, 128]\n",
    "block_depth = 2\n",
    "\n",
    "# optimization\n",
    "ema = 0.999\n",
    "learning_rate = 1e-3\n",
    "weight_decay = 1e-4\n",
    "\n",
    "optimizer = Adam(0.0002, 0.5)"
   ]
  },
  {
   "cell_type": "code",
   "execution_count": 3,
   "id": "11900361",
   "metadata": {},
   "outputs": [
    {
     "name": "stdout",
     "output_type": "stream",
     "text": [
      "Found 37692 images belonging to 1 classes.\n"
     ]
    }
   ],
   "source": [
    "batch_size = 8\n",
    "image_size = 256\n",
    "channels = 1\n",
    "\n",
    "def preprocessing_function(image):\n",
    "    image = image.astype(float) / 255\n",
    "    return image\n",
    "\n",
    "idg = ImageDataGenerator(preprocessing_function = preprocessing_function)\n",
    "heightmap_iterator = idg.flow_from_directory('data/split_heightmaps', \n",
    "                                             target_size = (image_size, image_size), \n",
    "                                             batch_size = batch_size,\n",
    "                                             color_mode = 'grayscale',\n",
    "                                             classes = [''])"
   ]
  },
  {
   "cell_type": "code",
   "execution_count": 4,
   "id": "c853bc4b",
   "metadata": {},
   "outputs": [],
   "source": [
    "def sinusoidal_embedding(x):\n",
    "    embedding_min_frequency = 1.0\n",
    "    frequencies = tf.exp(\n",
    "        tf.linspace(\n",
    "            tf.math.log(embedding_min_frequency),\n",
    "            tf.math.log(embedding_max_frequency),\n",
    "            embedding_dims // 2,\n",
    "        )\n",
    "    )\n",
    "    angular_speeds = 2.0 * math.pi * frequencies\n",
    "    embeddings = tf.concat(\n",
    "        [tf.sin(angular_speeds * x), tf.cos(angular_speeds * x)], axis=3\n",
    "    )\n",
    "    return embeddings"
   ]
  },
  {
   "cell_type": "code",
   "execution_count": 5,
   "id": "f3977121",
   "metadata": {},
   "outputs": [],
   "source": [
    "def ResidualBlock(width):\n",
    "    def apply(x):\n",
    "        input_width = x.shape[3]\n",
    "        if input_width == width:\n",
    "            residual = x\n",
    "        else:\n",
    "            residual = layers.Conv2D(width, kernel_size=1)(x)\n",
    "        x = layers.BatchNormalization(center=False, scale=False)(x)\n",
    "        x = layers.Conv2D(\n",
    "            width, kernel_size=3, padding=\"same\", activation=keras.activations.swish\n",
    "        )(x)\n",
    "        x = layers.Conv2D(width, kernel_size=3, padding=\"same\")(x)\n",
    "        x = layers.Add()([x, residual])\n",
    "        return x\n",
    "\n",
    "    return apply"
   ]
  },
  {
   "cell_type": "code",
   "execution_count": 6,
   "id": "a33d5e37",
   "metadata": {},
   "outputs": [],
   "source": [
    "def DownBlock(width, block_depth):\n",
    "    def apply(x):\n",
    "        x, skips = x\n",
    "        for _ in range(block_depth):\n",
    "            x = ResidualBlock(width)(x)\n",
    "            skips.append(x)\n",
    "        x = layers.AveragePooling2D(pool_size=2)(x)\n",
    "        return x\n",
    "\n",
    "    return apply"
   ]
  },
  {
   "cell_type": "code",
   "execution_count": 7,
   "id": "c19ec1cd",
   "metadata": {},
   "outputs": [],
   "source": [
    "def UpBlock(width, block_depth):\n",
    "    def apply(x):\n",
    "        x, skips = x\n",
    "        x = layers.UpSampling2D(size=2, interpolation=\"bilinear\")(x)\n",
    "        for _ in range(block_depth):\n",
    "            x = layers.Concatenate()([x, skips.pop()])\n",
    "            x = ResidualBlock(width)(x)\n",
    "        return x\n",
    "\n",
    "    return apply"
   ]
  },
  {
   "cell_type": "code",
   "execution_count": 8,
   "id": "fedbf146",
   "metadata": {},
   "outputs": [],
   "source": [
    "def create_network(image_size, widths, block_depth):\n",
    "    noisy_images = keras.Input(shape=(image_size, image_size, channels))\n",
    "    noise_variances = keras.Input(shape=(1, 1, 1))\n",
    "\n",
    "    e = layers.Lambda(sinusoidal_embedding)(noise_variances)\n",
    "    e = layers.UpSampling2D(size=image_size, interpolation=\"nearest\")(e)\n",
    "\n",
    "    x = layers.Conv2D(widths[0], kernel_size=1)(noisy_images)\n",
    "    x = layers.Concatenate()([x, e])\n",
    "\n",
    "    skips = []\n",
    "    for width in widths[:-1]:\n",
    "        x = DownBlock(width, block_depth)([x, skips])\n",
    "\n",
    "    for _ in range(block_depth):\n",
    "        x = ResidualBlock(widths[-1])(x)\n",
    "\n",
    "    for width in reversed(widths[:-1]):\n",
    "        x = UpBlock(width, block_depth)([x, skips])\n",
    "\n",
    "    x = layers.Conv2D(channels, kernel_size=1, kernel_initializer=\"zeros\")(x)\n",
    "\n",
    "    return keras.Model([noisy_images, noise_variances], x, name=\"residual_unet\")"
   ]
  },
  {
   "cell_type": "code",
   "execution_count": 9,
   "id": "c2139507",
   "metadata": {},
   "outputs": [],
   "source": [
    "network = create_network(image_size, widths, block_depth)\n",
    "network.compile(optimizer = optimizer, loss = mean_absolute_error)"
   ]
  },
  {
   "cell_type": "code",
   "execution_count": 10,
   "id": "d302a73d",
   "metadata": {},
   "outputs": [],
   "source": [
    "def diffusion_schedule(diffusion_times):\n",
    "    # diffusion times -> angles\n",
    "    start_angle = tf.acos(max_signal_rate)\n",
    "    end_angle = tf.acos(min_signal_rate)\n",
    "\n",
    "    diffusion_angles = start_angle + diffusion_times * (end_angle - start_angle)\n",
    "\n",
    "    # angles -> signal and noise rates\n",
    "    signal_rates = tf.cos(diffusion_angles)\n",
    "    noise_rates = tf.sin(diffusion_angles)\n",
    "    # note that their squared sum is always: sin^2(x) + cos^2(x) = 1\n",
    "\n",
    "    return noise_rates, signal_rates"
   ]
  },
  {
   "cell_type": "code",
   "execution_count": 11,
   "id": "e0d95c7b",
   "metadata": {},
   "outputs": [],
   "source": [
    "def denoise(noisy_images, noise_rates, signal_rates, model):\n",
    "    pred_noises = model.predict([noisy_images, noise_rates**2])\n",
    "    pred_images = (noisy_images - noise_rates * pred_noises) / signal_rates\n",
    "    \n",
    "    return pred_noises, pred_images"
   ]
  },
  {
   "cell_type": "code",
   "execution_count": 23,
   "id": "7ae5f09d",
   "metadata": {},
   "outputs": [],
   "source": [
    "def train(directory_iterator, model, epochs):\n",
    "    directory_iterator.reset()\n",
    "    steps_per_epoch = directory_iterator.__len__() - 1\n",
    "    \n",
    "    for epoch in range(epochs):\n",
    "        for step in range(steps_per_epoch):\n",
    "            images = np.asarray(directory_iterator.next()[0])\n",
    "            if images.shape[0] != batch_size:\n",
    "                continue\n",
    "                \n",
    "            noises = tf.random.normal(shape=(batch_size, image_size, image_size, channels))\n",
    "\n",
    "            diffusion_times = tf.random.uniform(shape=(batch_size, 1, 1, 1), minval=0.0, maxval=1.0)\n",
    "            noise_rates, signal_rates = diffusion_schedule(diffusion_times)\n",
    "\n",
    "            noisy_images = signal_rates * images + noise_rates * noises\n",
    "            #pred_noises, pred_images = denoise(noisy_images, noise_rates, signal_rates, model)\n",
    "            model.train_on_batch([noisy_images, noise_rates**2], noises)\n",
    "            \n",
    "        model.save('data/saved_models/epoch' + str(epoch) + '.h5')\n",
    "    \n",
    "    return model"
   ]
  },
  {
   "cell_type": "code",
   "execution_count": 24,
   "id": "9dbbec27",
   "metadata": {
    "scrolled": true
   },
   "outputs": [],
   "source": [
    "network = train(heightmap_iterator, network, 1)"
   ]
  },
  {
   "cell_type": "code",
   "execution_count": 14,
   "id": "55b3655a",
   "metadata": {},
   "outputs": [],
   "source": [
    "def reverse_diffusion(model, num_images, diffusion_steps):\n",
    "    initial_noise = tf.random.normal(shape=(num_images, image_size, image_size, channels))\n",
    "    step_size = 1.0 / diffusion_steps\n",
    "    \n",
    "    next_noisy_images = initial_noise\n",
    "    for step in range(diffusion_steps):\n",
    "        noisy_images = next_noisy_images\n",
    "        \n",
    "        diffusion_times = tf.ones((num_images, 1, 1, 1)) - step * step_size\n",
    "        noise_rates, signal_rates = diffusion_schedule(diffusion_times)\n",
    "        \n",
    "        #pred_noises = model.predict([noisy_images, noise_rates**2])\n",
    "        pred_noises = model([noisy_images, noise_rates**2], training = True)\n",
    "        pred_images = (noisy_images - noise_rates * pred_noises) / signal_rates\n",
    "        \n",
    "        next_diffusion_times = diffusion_times - step_size\n",
    "        next_noise_rates, next_signal_rates = diffusion_schedule(next_diffusion_times)\n",
    "        next_noisy_images = (next_signal_rates * pred_images + next_noise_rates * pred_noises)\n",
    "        \n",
    "    return pred_images"
   ]
  },
  {
   "cell_type": "code",
   "execution_count": 49,
   "id": "58f86b52",
   "metadata": {},
   "outputs": [],
   "source": [
    "generated_images = reverse_diffusion(network, num_images = 1, diffusion_steps = 20)"
   ]
  },
  {
   "cell_type": "code",
   "execution_count": 50,
   "id": "8ae29f48",
   "metadata": {},
   "outputs": [
    {
     "data": {
      "text/plain": [
       "<matplotlib.image.AxesImage at 0x1f0144ecac8>"
      ]
     },
     "execution_count": 50,
     "metadata": {},
     "output_type": "execute_result"
    },
    {
     "data": {
      "image/png": "[encoded data removed]",
      "text/plain": [
       "<Figure size 432x288 with 1 Axes>"
      ]
     },
     "metadata": {
      "needs_background": "light"
     },
     "output_type": "display_data"
    }
   ],
   "source": [
    "plt.imshow(generated_images[0], cmap='gray')"
   ]
  },
  {
   "cell_type": "code",
   "execution_count": null,
   "id": "e3a6e029",
   "metadata": {},
   "outputs": [],
   "source": [
    "#############################################################"
   ]
  },
  {
   "cell_type": "code",
   "execution_count": null,
   "id": "d316fb0e",
   "metadata": {},
   "outputs": [],
   "source": [
    "def reverse_diffusion(self, initial_noise, diffusion_steps):\n",
    "    # reverse diffusion = sampling\n",
    "    num_images = initial_noise.shape[0]\n",
    "    step_size = 1.0 / diffusion_steps\n",
    "\n",
    "    # important line:\n",
    "    # at the first sampling step, the \"noisy image\" is pure noise\n",
    "    # but its signal rate is assumed to be nonzero (min_signal_rate)\n",
    "    next_noisy_images = initial_noise\n",
    "    for step in range(diffusion_steps):\n",
    "        noisy_images = next_noisy_images\n",
    "\n",
    "        # separate the current noisy image to its components\n",
    "        diffusion_times = tf.ones((num_images, 1, 1, 1)) - step * step_size\n",
    "        noise_rates, signal_rates = self.diffusion_schedule(diffusion_times)\n",
    "        pred_noises, pred_images = self.denoise(\n",
    "            noisy_images, noise_rates, signal_rates, training=False\n",
    "        )\n",
    "        # network used in eval mode\n",
    "\n",
    "        # remix the predicted components using the next signal and noise rates\n",
    "        next_diffusion_times = diffusion_times - step_size\n",
    "        next_noise_rates, next_signal_rates = self.diffusion_schedule(\n",
    "            next_diffusion_times\n",
    "        )\n",
    "        next_noisy_images = (\n",
    "            next_signal_rates * pred_images + next_noise_rates * pred_noises\n",
    "        )\n",
    "        # this new noisy image will be used in the next step\n",
    "\n",
    "    return pred_images"
   ]
  },
  {
   "cell_type": "code",
   "execution_count": 11,
   "id": "2eb92e16",
   "metadata": {},
   "outputs": [],
   "source": [
    "class DiffusionModel(keras.Model):\n",
    "    def __init__(self, image_size, widths, block_depth):\n",
    "        super().__init__()\n",
    "\n",
    "    def denormalize(self, images):\n",
    "        # convert the pixel values back to 0-1 range\n",
    "        images = self.normalizer.mean + images * self.normalizer.variance**0.5\n",
    "        return tf.clip_by_value(images, 0.0, 1.0)"
   ]
  }
 ],
 "metadata": {
  "kernelspec": {
   "display_name": "Python 3 (ipykernel)",
   "language": "python",
   "name": "python3"
  },
  "language_info": {
   "codemirror_mode": {
    "name": "ipython",
    "version": 3
   },
   "file_extension": ".py",
   "mimetype": "text/x-python",
   "name": "python",
   "nbconvert_exporter": "python",
   "pygments_lexer": "ipython3",
   "version": "3.7.4"
  },
  "widgets": {
   "application/vnd.jupyter.widget-state+json": {
    "state": {},
    "version_major": 2,
    "version_minor": 0
   }
  }
 },
 "nbformat": 4,
 "nbformat_minor": 5
}
