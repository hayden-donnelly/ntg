{
 "cells": [
  {
   "cell_type": "code",
   "execution_count": 3,
   "id": "8a03880a",
   "metadata": {},
   "outputs": [],
   "source": [
    "from tensorflow.keras.preprocessing.image import ImageDataGenerator\n",
    "import numpy as np"
   ]
  },
  {
   "cell_type": "code",
   "execution_count": 5,
   "id": "44c61038",
   "metadata": {},
   "outputs": [],
   "source": [
    "def preprocessing_function(image):\n",
    "    image = image.astype(float) / 255\n",
    "    return image"
   ]
  },
  {
   "cell_type": "code",
   "execution_count": 10,
   "id": "11900361",
   "metadata": {},
   "outputs": [
    {
     "name": "stdout",
     "output_type": "stream",
     "text": [
      "Found 37692 images belonging to 1 classes.\n"
     ]
    }
   ],
   "source": [
    "batch_size = 16\n",
    "img_rows = 256\n",
    "img_cols = 256\n",
    "\n",
    "idg = ImageDataGenerator(preprocessing_function = preprocessing_function)\n",
    "heightmap_iterator = idg.flow_from_directory('data/split_heightmaps', \n",
    "                                             target_size = (img_rows, img_cols), \n",
    "                                             batch_size = batch_size,\n",
    "                                             color_mode = 'grayscale',\n",
    "                                             classes = [''])"
   ]
  },
  {
   "cell_type": "code",
   "execution_count": null,
   "id": "f3977121",
   "metadata": {},
   "outputs": [],
   "source": []
  }
 ],
 "metadata": {
  "kernelspec": {
   "display_name": "Python 3 (ipykernel)",
   "language": "python",
   "name": "python3"
  },
  "language_info": {
   "codemirror_mode": {
    "name": "ipython",
    "version": 3
   },
   "file_extension": ".py",
   "mimetype": "text/x-python",
   "name": "python",
   "nbconvert_exporter": "python",
   "pygments_lexer": "ipython3",
   "version": "3.7.4"
  }
 },
 "nbformat": 4,
 "nbformat_minor": 5
}
