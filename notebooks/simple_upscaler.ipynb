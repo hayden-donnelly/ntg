{
 "cells": [
  {
   "cell_type": "code",
   "execution_count": 21,
   "id": "6ca3a76f",
   "metadata": {},
   "outputs": [],
   "source": [
    "import keras\n",
    "from keras import layers\n",
    "from keras.preprocessing.image import ImageDataGenerator\n",
    "import matplotlib.pyplot as plt\n",
    "import numpy as np"
   ]
  },
  {
   "cell_type": "code",
   "execution_count": 8,
   "id": "4a43eb40",
   "metadata": {},
   "outputs": [],
   "source": [
    "image_size = 256"
   ]
  },
  {
   "cell_type": "code",
   "execution_count": 52,
   "id": "2391e28f",
   "metadata": {},
   "outputs": [],
   "source": [
    "def plot_images(images):\n",
    "    plt.figure(figsize = (50 * 3, 50))\n",
    "    num_images = images.shape[0]\n",
    "    \n",
    "    for i in range(num_images):\n",
    "        plt.subplot(1, num_images, i + 1)\n",
    "        plt.imshow(images[i], cmap='gray')\n",
    "\n",
    "    plt.tight_layout()\n",
    "    plt.show()"
   ]
  },
  {
   "cell_type": "code",
   "execution_count": 46,
   "id": "0e7fe844",
   "metadata": {},
   "outputs": [
    {
     "name": "stdout",
     "output_type": "stream",
     "text": [
      "Found 582569 images belonging to 1 classes.\n"
     ]
    }
   ],
   "source": [
    "def preprocessing_function(image):\n",
    "        image = image.astype(float) / 255.\n",
    "        return image\n",
    "\n",
    "idg = ImageDataGenerator(preprocessing_function = preprocessing_function)\n",
    "image_iterator = idg.flow_from_directory(\n",
    "    '../../heightmaps/uncorrupted_split_heightmaps_second_pass/',\n",
    "    target_size = (image_size, image_size),\n",
    "    batch_size = 1,\n",
    "    color_mode = 'grayscale',\n",
    "    shuffle = True,\n",
    "    classes = ['']\n",
    ")"
   ]
  },
  {
   "cell_type": "code",
   "execution_count": 64,
   "id": "15c8a140",
   "metadata": {},
   "outputs": [],
   "source": [
    "inputs = layers.Input(shape=(image_size, image_size, 1))\n",
    "x = layers.UpSampling2D(size=(8, 8), interpolation='bicubic')(inputs)\n",
    "model = keras.Model(inputs, x)"
   ]
  },
  {
   "cell_type": "code",
   "execution_count": null,
   "id": "3ffc59d9",
   "metadata": {},
   "outputs": [],
   "source": [
    "image = image_iterator.next()\n",
    "image = np.asarray(image[0])\n",
    "plot_images(image)"
   ]
  },
  {
   "cell_type": "code",
   "execution_count": null,
   "id": "8b096740",
   "metadata": {},
   "outputs": [],
   "source": [
    "output_image = model(image)\n",
    "plot_images(output_image)"
   ]
  },
  {
   "cell_type": "code",
   "execution_count": 67,
   "id": "e1e6e0ac",
   "metadata": {},
   "outputs": [
    {
     "data": {
      "text/plain": [
       "TensorShape([1, 2048, 2048, 1])"
      ]
     },
     "execution_count": 67,
     "metadata": {},
     "output_type": "execute_result"
    }
   ],
   "source": [
    "output_image.shape"
   ]
  },
  {
   "cell_type": "code",
   "execution_count": 68,
   "id": "ba0f757d",
   "metadata": {},
   "outputs": [
    {
     "name": "stdout",
     "output_type": "stream",
     "text": [
      "WARNING:tensorflow:Compiled the loaded model, but the compiled metrics have yet to be built. `model.compile_metrics` will be empty until you train or evaluate the model.\n",
      "INFO:tensorflow:Assets written to: ../data/models/simple_upsampler\\assets\n"
     ]
    }
   ],
   "source": [
    "model.save('../data/models/simple_upsampler')"
   ]
  },
  {
   "cell_type": "code",
   "execution_count": null,
   "id": "de95356f",
   "metadata": {},
   "outputs": [],
   "source": []
  }
 ],
 "metadata": {
  "kernelspec": {
   "display_name": "Python 3 (ipykernel)",
   "language": "python",
   "name": "python3"
  },
  "language_info": {
   "codemirror_mode": {
    "name": "ipython",
    "version": 3
   },
   "file_extension": ".py",
   "mimetype": "text/x-python",
   "name": "python",
   "nbconvert_exporter": "python",
   "pygments_lexer": "ipython3",
   "version": "3.7.4"
  }
 },
 "nbformat": 4,
 "nbformat_minor": 5
}
